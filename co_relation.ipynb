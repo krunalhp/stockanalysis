{
  "nbformat": 4,
  "nbformat_minor": 0,
  "metadata": {
    "colab": {
      "provenance": [],
      "authorship_tag": "ABX9TyO7ot7zmC/5ifrn5QdPjzFY",
      "include_colab_link": true
    },
    "kernelspec": {
      "name": "python3",
      "display_name": "Python 3"
    },
    "language_info": {
      "name": "python"
    }
  },
  "cells": [
    {
      "cell_type": "markdown",
      "metadata": {
        "id": "view-in-github",
        "colab_type": "text"
      },
      "source": [
        "<a href=\"https://colab.research.google.com/github/krunalhp/stockanalysis/blob/main/co_relation.ipynb\" target=\"_parent\"><img src=\"https://colab.research.google.com/assets/colab-badge.svg\" alt=\"Open In Colab\"/></a>"
      ]
    },
    {
      "cell_type": "code",
      "execution_count": 4,
      "metadata": {
        "colab": {
          "base_uri": "https://localhost:8080/"
        },
        "id": "XB6iWicb-F49",
        "outputId": "ec49b95a-37bc-49bc-a0ed-bfee7aae632c"
      },
      "outputs": [
        {
          "output_type": "stream",
          "name": "stderr",
          "text": [
            "[*********************100%***********************]  2 of 2 completed"
          ]
        },
        {
          "output_type": "stream",
          "name": "stdout",
          "text": [
            "-0.2508859543221916\n"
          ]
        },
        {
          "output_type": "stream",
          "name": "stderr",
          "text": [
            "\n"
          ]
        }
      ],
      "source": [
        "import yfinance as yf\n",
        "import pandas as pd\n",
        "import numpy as np\n"
      ]
    },
    {
      "cell_type": "code",
      "source": [
        "def calculate_correlation_matrix(tickers, start_date, end_date):\n",
        "  \"\"\"\n",
        "  Calculates the correlation matrix for a list of stock tickers.\n",
        "\n",
        "  Args:\n",
        "    tickers: A list of stock tickers.\n",
        "    start_date: The start date for historical data.\n",
        "    end_date: The end date for historical data.\n",
        "\n",
        "  Returns:\n",
        "    A pandas DataFrame representing the correlation matrix.\n",
        "  \"\"\"\n",
        "  # Fetch historical data\n",
        "  data = yf.download(tickers, start=start_date, end=end_date)['Close']\n",
        "\n",
        "  # Calculate correlation matrix\n",
        "  correlation_matrix = data.corr()\n",
        "\n",
        "  return correlation_matrix"
      ],
      "metadata": {
        "id": "m--AMau6AKNd"
      },
      "execution_count": 11,
      "outputs": []
    },
    {
      "cell_type": "code",
      "source": [
        "\n",
        "# Define the tickers\n",
        "tickers = [\"ADANIENT.NS\",\n",
        "\"ADANIGREEN.NS\",\n",
        "\"ADANIPORTS.NS\",\n",
        "\"ADANIPOWER.NS\",\n",
        "\"ALKYLAMINE.NS\",\n",
        "\"AMBUJACEM.NS\",\n",
        "\"ASMS.NS\",\n",
        "\"AWFIS.NS\",\n",
        "\"AWHCL.NS\",\n",
        "\"AXISBANK.NS\",\n",
        "\"BAJAJ-AUTO.NS\",\n",
        "\"BAJAJFINSV.NS\",\n",
        "\"BHEL.NS\",\n",
        "\"BORORENEW.NS\",\n",
        "\"BSE.NS\",\n",
        "\"BSOFT.NS\",\n",
        "\"CDSL.NS\",\n",
        "\"CESC.NS\",\n",
        "\"CHAMBLFERT.NS\",\n",
        "\"COALINDIA.NS\",\n",
        "\"DIXON.NS\",\n",
        "\"EMUDHRA.NS\",\n",
        "\"EXIDEIND.NS\",\n",
        "\"GSFC.NS\",\n",
        "\"GSPL.NS\",\n",
        "\"GUJGASLTD.NS\",\n",
        "\"HCLTECH.NS\",\n",
        "\"HDFCBANK.NS\",\n",
        "\"HGINFRA.NS\",\n",
        "]\n",
        "start_date = \"2024-01-01\"\n",
        "end_date = \"2024-12-08\"\n",
        "\n",
        "correlation_matrix = calculate_correlation_matrix(tickers, start_date, end_date)\n",
        "\n",
        "print('\\n\\n\\n'+ str(correlation_matrix))\n",
        "correlation_matrix.to_csv(\"correlation_matrix.csv\")\n",
        "\n",
        "\n",
        "\n",
        "\n"
      ],
      "metadata": {
        "colab": {
          "base_uri": "https://localhost:8080/"
        },
        "id": "p5ySqEFi-w4n",
        "outputId": "cec95f75-8f42-4b2e-cc4f-049f38c74e33"
      },
      "execution_count": 26,
      "outputs": [
        {
          "output_type": "stream",
          "name": "stderr",
          "text": [
            "[*********************100%***********************]  29 of 29 completed\n"
          ]
        },
        {
          "output_type": "stream",
          "name": "stdout",
          "text": [
            "\n",
            "\n",
            "\n",
            "Ticker         ADANIENT.NS  ADANIGREEN.NS  ADANIPORTS.NS  ADANIPOWER.NS  \\\n",
            "Ticker                                                                    \n",
            "ADANIENT.NS       1.000000       0.851172       0.428858       0.475339   \n",
            "ADANIGREEN.NS     0.851172       1.000000       0.494179       0.457035   \n",
            "ADANIPORTS.NS     0.428858       0.494179       1.000000       0.834408   \n",
            "ADANIPOWER.NS     0.475339       0.457035       0.834408       1.000000   \n",
            "ALKYLAMINE.NS     0.099673       0.121486      -0.244546      -0.199022   \n",
            "AMBUJACEM.NS      0.559830       0.569086       0.850365       0.825450   \n",
            "ASMS.NS           0.163820       0.113587      -0.228732      -0.210841   \n",
            "AWFIS.NS         -0.406615      -0.117100      -0.087560      -0.589734   \n",
            "AWHCL.NS         -0.273728      -0.119264       0.465509       0.163279   \n",
            "AXISBANK.NS      -0.032517       0.024956       0.638330       0.669884   \n",
            "BAJAJ-AUTO.NS    -0.039597       0.201796       0.655151       0.464395   \n",
            "BAJAJFINSV.NS    -0.072206       0.168305       0.217186       0.013224   \n",
            "BHEL.NS           0.260689       0.293250       0.822897       0.834923   \n",
            "BORORENEW.NS      0.459122       0.383333       0.015863      -0.016900   \n",
            "BSE.NS           -0.576085      -0.517921      -0.027556      -0.163443   \n",
            "BSOFT.NS          0.425409       0.286252      -0.297554      -0.253105   \n",
            "CDSL.NS          -0.541631      -0.383971       0.312087       0.104574   \n",
            "CESC.NS          -0.332527      -0.163827       0.531154       0.343555   \n",
            "CHAMBLFERT.NS    -0.277220      -0.177075       0.638507       0.490455   \n",
            "COALINDIA.NS      0.362205       0.500515       0.905607       0.777073   \n",
            "DIXON.NS         -0.468669      -0.364874       0.442887       0.278018   \n",
            "EMUDHRA.NS       -0.238356      -0.144229       0.647612       0.516883   \n",
            "EXIDEIND.NS      -0.009956       0.023076       0.743899       0.799892   \n",
            "GSFC.NS           0.186657       0.050577      -0.233787      -0.038159   \n",
            "GSPL.NS          -0.099849       0.095528       0.082914      -0.247060   \n",
            "GUJGASLTD.NS      0.491886       0.559179       0.769919       0.700047   \n",
            "HCLTECH.NS       -0.464673      -0.337908       0.025315      -0.323640   \n",
            "HDFCBANK.NS      -0.512287      -0.462832       0.234708       0.170465   \n",
            "HGINFRA.NS       -0.001877       0.044184       0.792972       0.817050   \n",
            "\n",
            "Ticker         ALKYLAMINE.NS  AMBUJACEM.NS   ASMS.NS  AWFIS.NS  AWHCL.NS  \\\n",
            "Ticker                                                                     \n",
            "ADANIENT.NS         0.099673      0.559830  0.163820 -0.406615 -0.273728   \n",
            "ADANIGREEN.NS       0.121486      0.569086  0.113587 -0.117100 -0.119264   \n",
            "ADANIPORTS.NS      -0.244546      0.850365 -0.228732 -0.087560  0.465509   \n",
            "ADANIPOWER.NS      -0.199022      0.825450 -0.210841 -0.589734  0.163279   \n",
            "ALKYLAMINE.NS       1.000000     -0.270761  0.228570  0.362599  0.133615   \n",
            "AMBUJACEM.NS       -0.270761      1.000000 -0.118722 -0.397597  0.070646   \n",
            "ASMS.NS             0.228570     -0.118722  1.000000 -0.007810 -0.132764   \n",
            "AWFIS.NS            0.362599     -0.397597 -0.007810  1.000000  0.796921   \n",
            "AWHCL.NS            0.133615      0.070646 -0.132764  0.796921  1.000000   \n",
            "AXISBANK.NS        -0.007247      0.542124 -0.244044 -0.307367  0.368026   \n",
            "BAJAJ-AUTO.NS      -0.079197      0.374482 -0.230865  0.372527  0.625800   \n",
            "BAJAJFINSV.NS       0.485331     -0.034737 -0.029854  0.532473  0.560296   \n",
            "BHEL.NS            -0.399466      0.852752 -0.167249 -0.360804  0.199621   \n",
            "BORORENEW.NS        0.147616      0.230981  0.424080 -0.065482 -0.264941   \n",
            "BSE.NS             -0.075191     -0.335061 -0.033091  0.427549  0.548446   \n",
            "BSOFT.NS            0.268109     -0.008135  0.388540 -0.402573 -0.520874   \n",
            "CDSL.NS            -0.047583     -0.065007 -0.230802  0.804518  0.800141   \n",
            "CESC.NS             0.093248      0.176227 -0.240969  0.838243  0.837591   \n",
            "CHAMBLFERT.NS      -0.006520      0.362348 -0.335188  0.545336  0.752620   \n",
            "COALINDIA.NS       -0.212815      0.743232 -0.134285  0.046877  0.458476   \n",
            "DIXON.NS           -0.159430      0.104134 -0.321053  0.651912  0.742203   \n",
            "EMUDHRA.NS         -0.425759      0.445479 -0.332318  0.161868  0.566437   \n",
            "EXIDEIND.NS        -0.246427      0.646597 -0.218695 -0.523636  0.414804   \n",
            "GSFC.NS             0.595924     -0.025743  0.268656 -0.165646 -0.231743   \n",
            "GSPL.NS             0.348870     -0.197013  0.029702  0.724110  0.551829   \n",
            "GUJGASLTD.NS        0.126075      0.761720 -0.023894 -0.130789  0.297095   \n",
            "HCLTECH.NS          0.138677     -0.339262 -0.076157  0.827219  0.713708   \n",
            "HDFCBANK.NS         0.151628     -0.040121 -0.419422  0.425517  0.624368   \n",
            "HGINFRA.NS         -0.246369      0.655194 -0.337010 -0.440800  0.464111   \n",
            "\n",
            "Ticker         AXISBANK.NS  ...  COALINDIA.NS  DIXON.NS  EMUDHRA.NS  \\\n",
            "Ticker                      ...                                       \n",
            "ADANIENT.NS      -0.032517  ...      0.362205 -0.468669   -0.238356   \n",
            "ADANIGREEN.NS     0.024956  ...      0.500515 -0.364874   -0.144229   \n",
            "ADANIPORTS.NS     0.638330  ...      0.905607  0.442887    0.647612   \n",
            "ADANIPOWER.NS     0.669884  ...      0.777073  0.278018    0.516883   \n",
            "ALKYLAMINE.NS    -0.007247  ...     -0.212815 -0.159430   -0.425759   \n",
            "AMBUJACEM.NS      0.542124  ...      0.743232  0.104134    0.445479   \n",
            "ASMS.NS          -0.244044  ...     -0.134285 -0.321053   -0.332318   \n",
            "AWFIS.NS         -0.307367  ...      0.046877  0.651912    0.161868   \n",
            "AWHCL.NS          0.368026  ...      0.458476  0.742203    0.566437   \n",
            "AXISBANK.NS       1.000000  ...      0.553381  0.638536    0.658535   \n",
            "BAJAJ-AUTO.NS     0.582841  ...      0.682840  0.752929    0.782625   \n",
            "BAJAJFINSV.NS     0.287398  ...      0.238935  0.471752    0.323300   \n",
            "BHEL.NS           0.648121  ...      0.818267  0.346917    0.630569   \n",
            "BORORENEW.NS     -0.306060  ...      0.002605 -0.580326   -0.516855   \n",
            "BSE.NS            0.199511  ...     -0.021914  0.789679    0.598087   \n",
            "BSOFT.NS         -0.399902  ...     -0.330488 -0.757324   -0.747878   \n",
            "CDSL.NS           0.481923  ...      0.340733  0.945949    0.724509   \n",
            "CESC.NS           0.664636  ...      0.541876  0.892873    0.730025   \n",
            "CHAMBLFERT.NS     0.777835  ...      0.591018  0.880662    0.787468   \n",
            "COALINDIA.NS      0.553381  ...      1.000000  0.416221    0.580316   \n",
            "DIXON.NS          0.638536  ...      0.416221  1.000000    0.861146   \n",
            "EMUDHRA.NS        0.658535  ...      0.580316  0.861146    1.000000   \n",
            "EXIDEIND.NS       0.822228  ...      0.714224  0.665473    0.810984   \n",
            "GSFC.NS          -0.068662  ...     -0.255397 -0.480573   -0.585093   \n",
            "GSPL.NS          -0.069437  ...      0.131013  0.330977    0.112761   \n",
            "GUJGASLTD.NS      0.510189  ...      0.731925  0.116741    0.264083   \n",
            "HCLTECH.NS        0.094908  ...      0.040523  0.651211    0.328393   \n",
            "HDFCBANK.NS       0.620428  ...      0.145028  0.849955    0.638512   \n",
            "HGINFRA.NS        0.851777  ...      0.750693  0.708098    0.817170   \n",
            "\n",
            "Ticker         EXIDEIND.NS   GSFC.NS   GSPL.NS  GUJGASLTD.NS  HCLTECH.NS  \\\n",
            "Ticker                                                                     \n",
            "ADANIENT.NS      -0.009956  0.186657 -0.099849      0.491886   -0.464673   \n",
            "ADANIGREEN.NS     0.023076  0.050577  0.095528      0.559179   -0.337908   \n",
            "ADANIPORTS.NS     0.743899 -0.233787  0.082914      0.769919    0.025315   \n",
            "ADANIPOWER.NS     0.799892 -0.038159 -0.247060      0.700047   -0.323640   \n",
            "ALKYLAMINE.NS    -0.246427  0.595924  0.348870      0.126075    0.138677   \n",
            "AMBUJACEM.NS      0.646597 -0.025743 -0.197013      0.761720   -0.339262   \n",
            "ASMS.NS          -0.218695  0.268656  0.029702     -0.023894   -0.076157   \n",
            "AWFIS.NS         -0.523636 -0.165646  0.724110     -0.130789    0.827219   \n",
            "AWHCL.NS          0.414804 -0.231743  0.551829      0.297095    0.713708   \n",
            "AXISBANK.NS       0.822228 -0.068662 -0.069437      0.510189    0.094908   \n",
            "BAJAJ-AUTO.NS     0.631067 -0.520900  0.495083      0.439043    0.474503   \n",
            "BAJAJFINSV.NS     0.164285 -0.132500  0.771747      0.226882    0.565780   \n",
            "BHEL.NS           0.825761 -0.119132 -0.270569      0.650327   -0.274572   \n",
            "BORORENEW.NS     -0.310874  0.549760 -0.002479      0.353793   -0.287225   \n",
            "BSE.NS            0.250897 -0.505870  0.395641     -0.358092    0.679477   \n",
            "BSOFT.NS         -0.569588  0.567550 -0.040878      0.138274   -0.271824   \n",
            "CDSL.NS           0.506632 -0.425889  0.454208      0.014236    0.741833   \n",
            "CESC.NS           0.663667 -0.223540  0.471276      0.342078    0.611433   \n",
            "CHAMBLFERT.NS     0.793333 -0.177615  0.246915      0.441794    0.470684   \n",
            "COALINDIA.NS      0.714224 -0.255397  0.131013      0.731925    0.040523   \n",
            "DIXON.NS          0.665473 -0.480573  0.330977      0.116741    0.651211   \n",
            "EMUDHRA.NS        0.810984 -0.585093  0.112761      0.264083    0.328393   \n",
            "EXIDEIND.NS       1.000000 -0.181263 -0.145509      0.536611   -0.016179   \n",
            "GSFC.NS          -0.181263  1.000000 -0.189173      0.189614   -0.373338   \n",
            "GSPL.NS          -0.145509 -0.189173  1.000000      0.170447    0.758115   \n",
            "GUJGASLTD.NS      0.536611  0.189614  0.170447      1.000000   -0.064864   \n",
            "HCLTECH.NS       -0.016179 -0.373338  0.758115     -0.064864    1.000000   \n",
            "HDFCBANK.NS       0.526044 -0.183180  0.230660     -0.000804    0.534777   \n",
            "HGINFRA.NS        0.949646 -0.210608 -0.074110      0.584724    0.070407   \n",
            "\n",
            "Ticker         HDFCBANK.NS  HGINFRA.NS  \n",
            "Ticker                                  \n",
            "ADANIENT.NS      -0.512287   -0.001877  \n",
            "ADANIGREEN.NS    -0.462832    0.044184  \n",
            "ADANIPORTS.NS     0.234708    0.792972  \n",
            "ADANIPOWER.NS     0.170465    0.817050  \n",
            "ALKYLAMINE.NS     0.151628   -0.246369  \n",
            "AMBUJACEM.NS     -0.040121    0.655194  \n",
            "ASMS.NS          -0.419422   -0.337010  \n",
            "AWFIS.NS          0.425517   -0.440800  \n",
            "AWHCL.NS          0.624368    0.464111  \n",
            "AXISBANK.NS       0.620428    0.851777  \n",
            "BAJAJ-AUTO.NS     0.517682    0.680327  \n",
            "BAJAJFINSV.NS     0.464675    0.196653  \n",
            "BHEL.NS           0.136260    0.820985  \n",
            "BORORENEW.NS     -0.591669   -0.287514  \n",
            "BSE.NS            0.684281    0.236392  \n",
            "BSOFT.NS         -0.643069   -0.544678  \n",
            "CDSL.NS           0.808311    0.546271  \n",
            "CESC.NS           0.782818    0.701963  \n",
            "CHAMBLFERT.NS     0.802434    0.838789  \n",
            "COALINDIA.NS      0.145028    0.750693  \n",
            "DIXON.NS          0.849955    0.708098  \n",
            "EMUDHRA.NS        0.638512    0.817170  \n",
            "EXIDEIND.NS       0.526044    0.949646  \n",
            "GSFC.NS          -0.183180   -0.210608  \n",
            "GSPL.NS           0.230660   -0.074110  \n",
            "GUJGASLTD.NS     -0.000804    0.584724  \n",
            "HCLTECH.NS        0.534777    0.070407  \n",
            "HDFCBANK.NS       1.000000    0.563167  \n",
            "HGINFRA.NS        0.563167    1.000000  \n",
            "\n",
            "[29 rows x 29 columns]\n"
          ]
        }
      ]
    },
    {
      "cell_type": "code",
      "source": [
        "from google.colab import drive\n",
        "drive.mount('/content/drive')"
      ],
      "metadata": {
        "id": "COrWBo89Dhqw"
      },
      "execution_count": null,
      "outputs": []
    }
  ]
}